{
 "cells": [
  {
   "cell_type": "markdown",
   "metadata": {},
   "source": [
    "# Basic Local Alignment Search Tool (BLAST)\n",
    "\n",
    "El NCBI pone a disposición pública los programas de la familia BLAST para uso local, desde la línea de comandos. El paquete se llama `blast+` y puede encontrarse en la página del [NCBI](https://blast.ncbi.nlm.nih.gov/Blast.cgi?CMD=Web&PAGE_TYPE=BlastDocs&DOC_TYPE=Download), junto con instrucciones.\n",
    "\n",
    "Existen algunos paquetes en R que también implementan los programas BLAST, o más bien ofrecen interfaces para ejecutar `blast+` desde R.\n",
    "\n",
    "Para poder buscar una o varias secuencias en una base de datos mediante BLAST, necesitamos acceso a la base de datos. Los ejecutables del paquete `blast+` ofrecen la posibilidad de conectarse a las bases de datos remotas. Sin embargo esta opción está limitada cuando la búsqueda es muy intensa y requiere una buena conexión a internet.\n",
    "\n",
    "En esta práctica empezaremos por crear nuestra propia base de datos para ejecutar blast de manera local.\n",
    "\n",
    "## Instalación de `blast+`\n",
    "\n",
    "Para instalar `blast+` seguiremos el mismo método de la práctica 4, cuando tuvimos que instalar `hmmer3` desde la línea de comandos. El procedimiento es el siguiente:\n",
    "\n",
    "1. Desde la interfaz de Jupyter Lab, abrimos una consola de terminal.\n",
    "2. Tecleamos el comando siguiente y confirmamos la instalación cuando nos pregunte:\n",
    "\n",
    "   `conda install -c bioconda blast`\n",
    "\n",
    "\n",
    "## Construcción de una base de datos local\n",
    "\n",
    "Todas las bases de datos de BLAST disponibles en NCBI pueden ser descargadas e instaladas localmente mediante el programa `update_blastdb.pl` de `blast+`. Sin embargo, la transferencia de ficheros grandes está limitada en el entorno de MyBinder.\n",
    "\n",
    "Crearemos dos bases de datos relativamente pequeñas con los datos disponibles en la carpeta de trabajo. La base de datos de RNA ribosomal de 16S de bacterias ha sido descargada previamente del [repositorio oficial de bases de datos para BLAST del NCBI](https://ftp.ncbi.nlm.nih.gov/blast/db/). Esta base de datos ya está *construída*. Es decir, contiene los índices y archivos binarios para que las búsquedas sean eficientes. Sólo hace falta descomprimirla. Esto se hace desde la terminal, con el comando siguiente:\n",
    "\n",
    "   `tar -xzvf 16S_ribosomal_RNA.tar.gz`\n",
    " \n",
    " Además, disponemos de un archivo fasta con todas las secuencias proteicas de aves presentes en la base de datos UniParc, de UniProt. Para poder ejectuar un BLAST contra esta base de datos es necesario indexarla. Para ello, usamos el comando `makeblastdb` de `blast+`, en la línea de comandos de la terminal:\n",
    " \n",
    "```\n",
    "makeblastdb -in birds.fas -title birds -out birds -dbtype prot\n",
    "``` \n",
    "\n",
    "## BLAST en R\n",
    "\n",
    "R cuenta con dos funciones que nos permiten ejecutar programas del sistema: `system()` y `system2()`. Las diferencias entre estas funciones son pocas, y para mayor comodidad usaremos `system2()`. En el ejemplo siguiente, buscaremos a qué especie pertenece la secuencia contenida en el archivo `16S_unknown.fasta` mediante un BLAST contra la base de datos de rRNA de 16S.\n",
    "\n"
   ]
  },
  {
   "cell_type": "code",
   "execution_count": 7,
   "metadata": {},
   "outputs": [],
   "source": [
    "# Comprueba la localización del ejecutable blastn en tu ordenador\n",
    "# mediante el comando \"which blastn\"\n",
    "\n",
    "blastn   <- '/srv/conda/envs/notebook/bin/blastn'\n",
    "database <- '16S_ribosomal_RNA'\n",
    "input    <- '16S_unknown.fasta'\n",
    "evalue   <- 1e-6\n",
    "format   <- 6\n",
    "\n",
    "system2(command = blastn, \n",
    "        args = c(\"-db\", database, \n",
    "                 \"-query\", input, \n",
    "                 \"-outfmt\", format, \n",
    "                 \"-evalue\", evalue, \n",
    "                 \"-ungapped\"),\n",
    "        wait = TRUE,\n",
    "        stdout = TRUE)"
   ]
  },
  {
   "cell_type": "markdown",
   "metadata": {},
   "source": [
    "### Ejercicio 1\n",
    "¿Qué ha pasado con el comando anterior?"
   ]
  },
  {
   "cell_type": "code",
   "execution_count": null,
   "metadata": {},
   "outputs": [],
   "source": [
    "blast_out <- system2(command = blastn, \n",
    "                 args = c(\"-db\", database, \n",
    "                          \"-query\", input, \n",
    "                          \"-outfmt\", format, \n",
    "                          \"-evalue\", evalue,\n",
    "                          \"-ungapped\"),\n",
    "                 wait = TRUE,\n",
    "                 stdout = TRUE)\n",
    "blast_out"
   ]
  },
  {
   "cell_type": "code",
   "execution_count": null,
   "metadata": {},
   "outputs": [],
   "source": [
    "blast_out_table <- read.table(textConnection(blast_out))\n",
    "blast_out_table"
   ]
  },
  {
   "cell_type": "markdown",
   "metadata": {},
   "source": [
    "### Ejercicio 2\n",
    "Realiza tú la búsqueda de las secuencias desconocidas del archivo `protein_unknown.fasta` en la base de datos de proteínas de pájaros, `birds`."
   ]
  }
 ],
 "metadata": {
  "kernelspec": {
   "display_name": "R",
   "language": "R",
   "name": "ir"
  },
  "language_info": {
   "codemirror_mode": "r",
   "file_extension": ".r",
   "mimetype": "text/x-r-source",
   "name": "R",
   "pygments_lexer": "r",
   "version": "3.6.3"
  }
 },
 "nbformat": 4,
 "nbformat_minor": 4
}
